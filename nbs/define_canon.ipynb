{
 "cells": [
  {
   "cell_type": "markdown",
   "id": "9844086d",
   "metadata": {},
   "source": [
    "# Define canon for SMK paintings"
   ]
  },
  {
   "cell_type": "code",
   "execution_count": 186,
   "id": "7adbd9fd",
   "metadata": {},
   "outputs": [],
   "source": [
    "#import requests\n",
    "from PIL import Image\n",
    "import os\n",
    "import pandas as pd\n",
    "import numpy as np\n",
    "import datasets\n",
    "from tqdm import tqdm\n",
    "from datasets import Image as Image_ds # change name because of similar PIL module\n",
    "from datasets import Dataset\n",
    "from datasets import load_dataset\n",
    "import urllib.parse\n",
    "import json\n",
    "import pickle\n",
    "import requests\n",
    "import matplotlib.pyplot as plt \n",
    "from sklearn.neighbors import NearestNeighbors\n",
    "import re\n",
    "import sys\n",
    "sys.path.append(os.path.abspath(\"..\"))\n",
    "from src.utils import plot_neighbors"
   ]
  },
  {
   "cell_type": "markdown",
   "id": "09bd820b",
   "metadata": {},
   "source": [
    "## Load smk data"
   ]
  },
  {
   "cell_type": "markdown",
   "id": "2e0b9391",
   "metadata": {},
   "source": [
    "We load the SMK data + metadata in a couple of different formats:\n",
    "\n",
    "df = Pandas DataFrame with SMK metadata on paintings (i.e., smk type \"Maleri\", \"Akvarel\", \"Miniature\" and \"Gouache\"). It's mainly \"Maleri\" in this category, though.\n",
    "\n",
    "metadata = JSON file with *all* metadata from the SMK API, not structured (but indices match pickle file)\n",
    "\n",
    "ds = HuggingFace dataset with same columns as pandas DF, but also a column storing a PIL image of the painting (mainly used here as it's easy to check the painting when it's stored in a ds)"
   ]
  },
  {
   "cell_type": "code",
   "execution_count": 187,
   "id": "c9327746",
   "metadata": {},
   "outputs": [],
   "source": [
    "# read df from csv \n",
    "data_path = os.path.join('..', 'data')\n",
    "df = pd.read_pickle(os.path.join(data_path, 'all_paintings_subset.pkl'))"
   ]
  },
  {
   "cell_type": "code",
   "execution_count": 188,
   "id": "e2f225fc",
   "metadata": {},
   "outputs": [],
   "source": [
    "# load metadata json\n",
    "json_path = os.path.join(data_path, 'all_paintings_metadata')\n",
    "\n",
    "# Open and read the JSON file\n",
    "with open(json_path, 'r') as file:\n",
    "    metadata = json.load(file)"
   ]
  },
  {
   "cell_type": "code",
   "execution_count": 189,
   "id": "f5509985",
   "metadata": {},
   "outputs": [],
   "source": [
    "# load image data\n",
    "ds = load_dataset(\"louisebrix/smk_all_paintings\", split=\"train\") # all the data is in the 'train' split"
   ]
  },
  {
   "cell_type": "code",
   "execution_count": 190,
   "id": "f1d96103",
   "metadata": {},
   "outputs": [],
   "source": [
    "# add column with greyscale information from ds (i.e., whether the image is greyscale or not)\n",
    "df['rgb'] = ds['rgb']"
   ]
  },
  {
   "cell_type": "markdown",
   "id": "0b67d51e",
   "metadata": {},
   "source": [
    "#### Add embeddings"
   ]
  },
  {
   "cell_type": "code",
   "execution_count": 191,
   "id": "9b9d6f9a",
   "metadata": {},
   "outputs": [
    {
     "data": {
      "text/plain": [
       "(2085, 1024)"
      ]
     },
     "execution_count": 191,
     "metadata": {},
     "output_type": "execute_result"
    }
   ],
   "source": [
    "# load embeddings\n",
    "embeddings = np.load(os.path.join(data_path, 'eva02_clip_all_paintings.npy'))\n",
    "embeddings.shape"
   ]
  },
  {
   "cell_type": "code",
   "execution_count": 192,
   "id": "2d498cce",
   "metadata": {},
   "outputs": [
    {
     "data": {
      "text/plain": [
       "(2085, 1024)"
      ]
     },
     "execution_count": 192,
     "metadata": {},
     "output_type": "execute_result"
    }
   ],
   "source": [
    "# load greyscaled embeddings\n",
    "grey_embeddings = np.load(os.path.join(data_path, 'GREY_eva02_clip_all_paintings.npy'))\n",
    "grey_embeddings.shape"
   ]
  },
  {
   "cell_type": "code",
   "execution_count": 193,
   "id": "4a29a673",
   "metadata": {},
   "outputs": [],
   "source": [
    "# need to convert to list of arrays to add to df\n",
    "embeddings_list = list(embeddings)\n",
    "grey_embeddings_list = list(grey_embeddings)\n",
    "df['embedding'] = embeddings_list\n",
    "df['grey_embedding'] = grey_embeddings_list"
   ]
  },
  {
   "cell_type": "code",
   "execution_count": 194,
   "id": "29ee2ab7",
   "metadata": {},
   "outputs": [
    {
     "name": "stdout",
     "output_type": "stream",
     "text": [
      "<class 'numpy.ndarray'>\n",
      "(1024,)\n",
      "<class 'numpy.ndarray'>\n",
      "(1024,)\n"
     ]
    }
   ],
   "source": [
    "# make sure embeddings are still np arrays and has the correct shape\n",
    "print(type(df['embedding'].iloc[0]))\n",
    "print(df['embedding'].iloc[0].shape)\n",
    "print(type(df['grey_embedding'].iloc[0]))\n",
    "print(df['grey_embedding'].iloc[0].shape)"
   ]
  },
  {
   "cell_type": "code",
   "execution_count": 195,
   "id": "c6a33436",
   "metadata": {},
   "outputs": [],
   "source": [
    "df = df.query('main_type == \"Maleri\"')\n",
    "indices = df.index.tolist()\n",
    "df.reset_index(drop=True, inplace=True)\n",
    "ds = ds.select(indices)"
   ]
  },
  {
   "cell_type": "code",
   "execution_count": 196,
   "id": "aec88718",
   "metadata": {},
   "outputs": [],
   "source": [
    "# select metadata based on indices\n",
    "metadata = [metadata[i] for i in indices]"
   ]
  },
  {
   "cell_type": "markdown",
   "id": "69d9da7c",
   "metadata": {},
   "source": [
    "Besides the metadata we already have in our df, we need to extract some extra data from the metadata json we can use for defining a canon of paintings and add it to our df:"
   ]
  },
  {
   "cell_type": "code",
   "execution_count": 197,
   "id": "bceaa932",
   "metadata": {},
   "outputs": [],
   "source": [
    "def extract_canon_info(item):\n",
    "\n",
    "    ''''\n",
    "    Get information on canon features from smk item\n",
    "    '''\n",
    "\n",
    "    content_keys = ['exhibitions',\n",
    "                    'acquisition_date', \n",
    "                    'responsible_department', \n",
    "                    'documentation', \n",
    "                    'on_display', \n",
    "                    'current_location_name',\n",
    "                    'literary_reference',\n",
    "                    'object_history_note']\n",
    "\n",
    "    content_data = {field: item.get(field, pd.NA) for field in content_keys}\n",
    "\n",
    "    return content_data"
   ]
  },
  {
   "cell_type": "code",
   "execution_count": 198,
   "id": "ddbac2ba",
   "metadata": {},
   "outputs": [
    {
     "name": "stderr",
     "output_type": "stream",
     "text": [
      "100%|██████████| 1690/1690 [00:00<00:00, 306378.53it/s]\n"
     ]
    }
   ],
   "source": [
    "data_dicts = []\n",
    "for item in tqdm(metadata, total=len(metadata)):\n",
    "    content_data = extract_canon_info(item)\n",
    "    data_dicts.append(content_data)\n",
    "\n",
    "data_df = pd.DataFrame(data_dicts)\n",
    "df = pd.concat([df, data_df], axis=1)     "
   ]
  },
  {
   "cell_type": "code",
   "execution_count": 199,
   "id": "739bbf1d",
   "metadata": {},
   "outputs": [
    {
     "data": {
      "text/html": [
       "<div>\n",
       "<style scoped>\n",
       "    .dataframe tbody tr th:only-of-type {\n",
       "        vertical-align: middle;\n",
       "    }\n",
       "\n",
       "    .dataframe tbody tr th {\n",
       "        vertical-align: top;\n",
       "    }\n",
       "\n",
       "    .dataframe thead th {\n",
       "        text-align: right;\n",
       "    }\n",
       "</style>\n",
       "<table border=\"1\" class=\"dataframe\">\n",
       "  <thead>\n",
       "    <tr style=\"text-align: right;\">\n",
       "      <th></th>\n",
       "      <th>smk_id</th>\n",
       "      <th>period</th>\n",
       "      <th>start_year</th>\n",
       "      <th>title</th>\n",
       "      <th>first_artist</th>\n",
       "      <th>all_artists</th>\n",
       "      <th>num_artists</th>\n",
       "      <th>main_type</th>\n",
       "      <th>all_types</th>\n",
       "      <th>image_thumbnail</th>\n",
       "      <th>...</th>\n",
       "      <th>embedding</th>\n",
       "      <th>grey_embedding</th>\n",
       "      <th>exhibitions</th>\n",
       "      <th>acquisition_date</th>\n",
       "      <th>responsible_department</th>\n",
       "      <th>documentation</th>\n",
       "      <th>on_display</th>\n",
       "      <th>current_location_name</th>\n",
       "      <th>literary_reference</th>\n",
       "      <th>object_history_note</th>\n",
       "    </tr>\n",
       "  </thead>\n",
       "  <tbody>\n",
       "    <tr>\n",
       "      <th>0</th>\n",
       "      <td>KMS8884</td>\n",
       "      <td>1835</td>\n",
       "      <td>1835</td>\n",
       "      <td>Parti af torvet i Amalfi</td>\n",
       "      <td>Martinus Rørbye</td>\n",
       "      <td>[Martinus Rørbye]</td>\n",
       "      <td>1</td>\n",
       "      <td>Maleri</td>\n",
       "      <td>[Maleri]</td>\n",
       "      <td>https://iip-thumb.smk.dk/iiif/jp2/tt44ps41w_km...</td>\n",
       "      <td>...</td>\n",
       "      <td>[0.2547459602355957, -0.6865944862365723, 0.94...</td>\n",
       "      <td>[-0.4250355362892151, -1.0564152002334595, 0.7...</td>\n",
       "      <td>[{'exhibition': '\"Danish Golden Age\" Petit Pal...</td>\n",
       "      <td>2018-11-27T00:00:00Z</td>\n",
       "      <td>Den Kongelige Maleri- og Skulptursamling</td>\n",
       "      <td>&lt;NA&gt;</td>\n",
       "      <td>True</td>\n",
       "      <td>Sal 219</td>\n",
       "      <td>&lt;NA&gt;</td>\n",
       "      <td>&lt;NA&gt;</td>\n",
       "    </tr>\n",
       "    <tr>\n",
       "      <th>1</th>\n",
       "      <td>KMS4313</td>\n",
       "      <td>1870</td>\n",
       "      <td>1870</td>\n",
       "      <td>Leonora Christina i fængslet</td>\n",
       "      <td>Kristian Zahrtmann</td>\n",
       "      <td>[Kristian Zahrtmann]</td>\n",
       "      <td>1</td>\n",
       "      <td>Maleri</td>\n",
       "      <td>[Maleri]</td>\n",
       "      <td>https://iip-thumb.smk.dk/iiif/jp2/7d278w98c_KM...</td>\n",
       "      <td>...</td>\n",
       "      <td>[0.7342177629470825, -0.6139540076255798, 0.10...</td>\n",
       "      <td>[0.5037139654159546, -0.522186279296875, -0.02...</td>\n",
       "      <td>[{'exhibition': 'Ære være Leonora', 'date_star...</td>\n",
       "      <td>1941-01-01T00:00:00Z</td>\n",
       "      <td>Den Kongelige Maleri- og Skulptursamling</td>\n",
       "      <td>[{'title': 'Dansk kunst: tusind års kunsthisto...</td>\n",
       "      <td>False</td>\n",
       "      <td>&lt;NA&gt;</td>\n",
       "      <td>&lt;NA&gt;</td>\n",
       "      <td>&lt;NA&gt;</td>\n",
       "    </tr>\n",
       "    <tr>\n",
       "      <th>2</th>\n",
       "      <td>KMS3880</td>\n",
       "      <td>1800</td>\n",
       "      <td>1800</td>\n",
       "      <td>Jurisprudensen. Allegorisk figur</td>\n",
       "      <td>Nicolai Abildgaard</td>\n",
       "      <td>[Nicolai Abildgaard]</td>\n",
       "      <td>1</td>\n",
       "      <td>Maleri</td>\n",
       "      <td>[Maleri]</td>\n",
       "      <td>https://iip-thumb.smk.dk/iiif/jp2/mw22v869s_KM...</td>\n",
       "      <td>...</td>\n",
       "      <td>[0.722366213798523, -0.381448358297348, -0.525...</td>\n",
       "      <td>[0.2561178207397461, -0.24371886253356934, -0....</td>\n",
       "      <td>[{'exhibition': 'Nicolai Abildgaard - Kroppen ...</td>\n",
       "      <td>1930-01-01T00:00:00Z</td>\n",
       "      <td>Den Kongelige Maleri- og Skulptursamling</td>\n",
       "      <td>[{'title': 'Fortegnelse over den danske Samlin...</td>\n",
       "      <td>False</td>\n",
       "      <td>&lt;NA&gt;</td>\n",
       "      <td>&lt;NA&gt;</td>\n",
       "      <td>[På auktion efter Abildgaards enke solgt til J...</td>\n",
       "    </tr>\n",
       "    <tr>\n",
       "      <th>3</th>\n",
       "      <td>KMS7591</td>\n",
       "      <td>1800</td>\n",
       "      <td>1800</td>\n",
       "      <td>Filosofien</td>\n",
       "      <td>Nicolai Abildgaard</td>\n",
       "      <td>[Nicolai Abildgaard]</td>\n",
       "      <td>1</td>\n",
       "      <td>Maleri</td>\n",
       "      <td>[Maleri]</td>\n",
       "      <td>https://iip-thumb.smk.dk/iiif/jp2/3x816q91r_KM...</td>\n",
       "      <td>...</td>\n",
       "      <td>[0.24958491325378418, -0.5673973560333252, -0....</td>\n",
       "      <td>[-0.01927855610847473, -0.5728319883346558, -0...</td>\n",
       "      <td>[{'exhibition': 'Nicolai Abildgaard - Kroppen ...</td>\n",
       "      <td>1991-01-01T00:00:00Z</td>\n",
       "      <td>Den Kongelige Maleri- og Skulptursamling</td>\n",
       "      <td>[{'title': 'Abildgaard=abildgård: kunstneren m...</td>\n",
       "      <td>False</td>\n",
       "      <td>&lt;NA&gt;</td>\n",
       "      <td>&lt;NA&gt;</td>\n",
       "      <td>&lt;NA&gt;</td>\n",
       "    </tr>\n",
       "    <tr>\n",
       "      <th>4</th>\n",
       "      <td>KMS3769</td>\n",
       "      <td>1844</td>\n",
       "      <td>1844</td>\n",
       "      <td>Udsigt fra Athenatemplet på Akropolis</td>\n",
       "      <td>Martinus Rørbye</td>\n",
       "      <td>[Martinus Rørbye]</td>\n",
       "      <td>1</td>\n",
       "      <td>Maleri</td>\n",
       "      <td>[Maleri]</td>\n",
       "      <td>https://iip-thumb.smk.dk/iiif/jp2/w0892f396_KM...</td>\n",
       "      <td>...</td>\n",
       "      <td>[-0.5517070889472961, 0.07065780460834503, 0.8...</td>\n",
       "      <td>[-1.139587163925171, -0.4562285244464874, 0.76...</td>\n",
       "      <td>&lt;NA&gt;</td>\n",
       "      <td>1926-01-01T00:00:00Z</td>\n",
       "      <td>Den Kongelige Maleri- og Skulptursamling</td>\n",
       "      <td>[{'title': 'Lysets malere: nordisk malerkunst ...</td>\n",
       "      <td>True</td>\n",
       "      <td>Sal 219</td>\n",
       "      <td>&lt;NA&gt;</td>\n",
       "      <td>&lt;NA&gt;</td>\n",
       "    </tr>\n",
       "  </tbody>\n",
       "</table>\n",
       "<p>5 rows × 37 columns</p>\n",
       "</div>"
      ],
      "text/plain": [
       "    smk_id period  start_year                                  title  \\\n",
       "0  KMS8884   1835        1835               Parti af torvet i Amalfi   \n",
       "1  KMS4313   1870        1870           Leonora Christina i fængslet   \n",
       "2  KMS3880   1800        1800       Jurisprudensen. Allegorisk figur   \n",
       "3  KMS7591   1800        1800                             Filosofien   \n",
       "4  KMS3769   1844        1844  Udsigt fra Athenatemplet på Akropolis   \n",
       "\n",
       "         first_artist           all_artists  num_artists main_type all_types  \\\n",
       "0     Martinus Rørbye     [Martinus Rørbye]            1    Maleri  [Maleri]   \n",
       "1  Kristian Zahrtmann  [Kristian Zahrtmann]            1    Maleri  [Maleri]   \n",
       "2  Nicolai Abildgaard  [Nicolai Abildgaard]            1    Maleri  [Maleri]   \n",
       "3  Nicolai Abildgaard  [Nicolai Abildgaard]            1    Maleri  [Maleri]   \n",
       "4     Martinus Rørbye     [Martinus Rørbye]            1    Maleri  [Maleri]   \n",
       "\n",
       "                                     image_thumbnail  ...  \\\n",
       "0  https://iip-thumb.smk.dk/iiif/jp2/tt44ps41w_km...  ...   \n",
       "1  https://iip-thumb.smk.dk/iiif/jp2/7d278w98c_KM...  ...   \n",
       "2  https://iip-thumb.smk.dk/iiif/jp2/mw22v869s_KM...  ...   \n",
       "3  https://iip-thumb.smk.dk/iiif/jp2/3x816q91r_KM...  ...   \n",
       "4  https://iip-thumb.smk.dk/iiif/jp2/w0892f396_KM...  ...   \n",
       "\n",
       "                                           embedding  \\\n",
       "0  [0.2547459602355957, -0.6865944862365723, 0.94...   \n",
       "1  [0.7342177629470825, -0.6139540076255798, 0.10...   \n",
       "2  [0.722366213798523, -0.381448358297348, -0.525...   \n",
       "3  [0.24958491325378418, -0.5673973560333252, -0....   \n",
       "4  [-0.5517070889472961, 0.07065780460834503, 0.8...   \n",
       "\n",
       "                                      grey_embedding  \\\n",
       "0  [-0.4250355362892151, -1.0564152002334595, 0.7...   \n",
       "1  [0.5037139654159546, -0.522186279296875, -0.02...   \n",
       "2  [0.2561178207397461, -0.24371886253356934, -0....   \n",
       "3  [-0.01927855610847473, -0.5728319883346558, -0...   \n",
       "4  [-1.139587163925171, -0.4562285244464874, 0.76...   \n",
       "\n",
       "                                         exhibitions      acquisition_date  \\\n",
       "0  [{'exhibition': '\"Danish Golden Age\" Petit Pal...  2018-11-27T00:00:00Z   \n",
       "1  [{'exhibition': 'Ære være Leonora', 'date_star...  1941-01-01T00:00:00Z   \n",
       "2  [{'exhibition': 'Nicolai Abildgaard - Kroppen ...  1930-01-01T00:00:00Z   \n",
       "3  [{'exhibition': 'Nicolai Abildgaard - Kroppen ...  1991-01-01T00:00:00Z   \n",
       "4                                               <NA>  1926-01-01T00:00:00Z   \n",
       "\n",
       "                     responsible_department  \\\n",
       "0  Den Kongelige Maleri- og Skulptursamling   \n",
       "1  Den Kongelige Maleri- og Skulptursamling   \n",
       "2  Den Kongelige Maleri- og Skulptursamling   \n",
       "3  Den Kongelige Maleri- og Skulptursamling   \n",
       "4  Den Kongelige Maleri- og Skulptursamling   \n",
       "\n",
       "                                       documentation  on_display  \\\n",
       "0                                               <NA>        True   \n",
       "1  [{'title': 'Dansk kunst: tusind års kunsthisto...       False   \n",
       "2  [{'title': 'Fortegnelse over den danske Samlin...       False   \n",
       "3  [{'title': 'Abildgaard=abildgård: kunstneren m...       False   \n",
       "4  [{'title': 'Lysets malere: nordisk malerkunst ...        True   \n",
       "\n",
       "  current_location_name literary_reference  \\\n",
       "0               Sal 219               <NA>   \n",
       "1                  <NA>               <NA>   \n",
       "2                  <NA>               <NA>   \n",
       "3                  <NA>               <NA>   \n",
       "4               Sal 219               <NA>   \n",
       "\n",
       "                                 object_history_note  \n",
       "0                                               <NA>  \n",
       "1                                               <NA>  \n",
       "2  [På auktion efter Abildgaards enke solgt til J...  \n",
       "3                                               <NA>  \n",
       "4                                               <NA>  \n",
       "\n",
       "[5 rows x 37 columns]"
      ]
     },
     "execution_count": 199,
     "metadata": {},
     "output_type": "execute_result"
    }
   ],
   "source": [
    "df.head(5)"
   ]
  },
  {
   "cell_type": "code",
   "execution_count": 200,
   "id": "0c145e47",
   "metadata": {},
   "outputs": [],
   "source": [
    "# get exhibition venues to check how many are from smk\n",
    "def exhb_venues(exhb_dict):\n",
    "    if exhb_dict is not pd.NA:\n",
    "        venues = []\n",
    "        for i in range(len(exhb_dict)):\n",
    "            venue = exhb_dict[i].get('venue', pd.NA)\n",
    "            venues.append(venue)\n",
    "        return venues\n",
    "    \n",
    "    else:\n",
    "        return pd.NA"
   ]
  },
  {
   "cell_type": "code",
   "execution_count": 201,
   "id": "1c138b72",
   "metadata": {},
   "outputs": [],
   "source": [
    "venues_list = [exhb_venues(exhb_dict) for exhb_dict in df['exhibitions']]\n",
    "df['exhibition_venues'] = venues_list"
   ]
  },
  {
   "cell_type": "markdown",
   "id": "760eab74",
   "metadata": {},
   "source": [
    "If a painting has been in an exhibition at SMK it will be under 'Sølvgade' (the adress for SMK) in 'venues'"
   ]
  },
  {
   "cell_type": "code",
   "execution_count": 202,
   "id": "90540646",
   "metadata": {},
   "outputs": [],
   "source": [
    "def check_smk(venues):\n",
    "    if isinstance(venues, list):\n",
    "        if any(isinstance(v, str) and 'Sølvgade' in v for v in venues):\n",
    "            return True \n",
    "        else:\n",
    "            return False \n",
    "    else:\n",
    "        return False"
   ]
  },
  {
   "cell_type": "code",
   "execution_count": 203,
   "id": "f13f3b72",
   "metadata": {},
   "outputs": [],
   "source": [
    "smk_exhibitions = [check_smk(venues) for venues in df['exhibition_venues']]\n",
    "df['smk_exhibitions'] = smk_exhibitions"
   ]
  },
  {
   "cell_type": "code",
   "execution_count": 204,
   "id": "8917e320",
   "metadata": {},
   "outputs": [],
   "source": [
    "def extract_enrichment_wiki_info(smk_id, session):\n",
    "\n",
    "    '''\n",
    "    Make calls to enrichment API and relevant extract information\n",
    "    '''\n",
    "    try:\n",
    "        try:\n",
    "            # enrichment API can't handle slashes in the smk_id as it sees them as part of the path, so they need to be encoded properly\n",
    "            encoded_smk_id = urllib.parse.quote(smk_id, safe='')\n",
    "            enrichment_url = f'https://enrichment.api.smk.dk/api/enrichment/{encoded_smk_id}'\n",
    "            enrichment_request = session.get(enrichment_url)\n",
    "            enrichment_json = enrichment_request.json()\n",
    "        \n",
    "        except Exception:\n",
    "            # SMK API is case insensitive but Enrichment API is not, so try to make the smk_id uppercase in case this is why the request fails\n",
    "            uppercase_smk_id = smk_id.upper()\n",
    "            encoded_smk_id = urllib.parse.quote(uppercase_smk_id, safe='')\n",
    "            enrichment_url = f'https://enrichment.api.smk.dk/api/enrichment/{encoded_smk_id}'\n",
    "            enrichment_request = session.get(enrichment_url)\n",
    "            enrichment_json = enrichment_request.json()\n",
    "\n",
    "        wiki_data = pd.NA\n",
    "        for item in enrichment_json:\n",
    "            if item.get('type') == 'wikidata':\n",
    "                \n",
    "                wiki_data = item.get('data', pd.NA).get('wikidata_link_da_s', pd.NA)\n",
    "                \n",
    "                break\n",
    "\n",
    "    # if request still fails, print error message and append NA for this object\n",
    "    except Exception as e:\n",
    "        #print(f\"Error fetching enrichment API data: {enrichment_url}\")\n",
    "        return pd.NA\n",
    "\n",
    "    return wiki_data"
   ]
  },
  {
   "cell_type": "code",
   "execution_count": 170,
   "id": "d50bcbc4",
   "metadata": {},
   "outputs": [],
   "source": [
    "# not sure we need this (and code takes some time to run)\n",
    "#wiki_data_list = [extract_enrichment_wiki_info(smk_id, session) for smk_id in df['smk_id']]\n",
    "#df['wiki_data'] = wiki_data_list\n",
    "#df[~df['wiki_data'].isna()]"
   ]
  },
  {
   "cell_type": "markdown",
   "id": "b172e0da",
   "metadata": {},
   "source": [
    "Add column with information about whether an exhibition was called something specific with 'gold'"
   ]
  },
  {
   "cell_type": "code",
   "execution_count": 205,
   "id": "6143130d",
   "metadata": {},
   "outputs": [],
   "source": [
    "golden = ['gold', 'guld']\n",
    "\n",
    "def exhb_venues(exhb_dict):\n",
    "    if exhb_dict is not pd.NA:\n",
    "        titles = []\n",
    "        for i in range(len(exhb_dict)):\n",
    "            title = exhb_dict[i].get('exhibition', None)\n",
    "\n",
    "            if title:\n",
    "                # Check if any keyword matches (case-insensitive)\n",
    "                if any(re.search(keyword, title.lower()) for keyword in golden):\n",
    "                    titles.append(title)\n",
    "\n",
    "        return titles if titles else pd.NA\n",
    "    else:\n",
    "        return pd.NA "
   ]
  },
  {
   "cell_type": "code",
   "execution_count": 206,
   "id": "c29ea4b5",
   "metadata": {},
   "outputs": [
    {
     "data": {
      "text/plain": [
       "79"
      ]
     },
     "execution_count": 206,
     "metadata": {},
     "output_type": "execute_result"
    }
   ],
   "source": [
    "golden_titles = [exhb_venues(exhb_dict) for exhb_dict in df['exhibitions']]\n",
    "df['golden_titles'] = golden_titles\n",
    "len(df['golden_titles'].value_counts())"
   ]
  },
  {
   "cell_type": "code",
   "execution_count": 207,
   "id": "2320f7b1",
   "metadata": {},
   "outputs": [],
   "source": [
    "# convert columns to 0/1 instead of True/False\n",
    "df['smk_exhibitions'] = df['smk_exhibitions']*1\n",
    "df['on_display'] = df['on_display']*1"
   ]
  },
  {
   "cell_type": "markdown",
   "id": "fe9a9c6d",
   "metadata": {},
   "source": [
    "Create variable on whether the artwork has been exhibited anywhere:"
   ]
  },
  {
   "cell_type": "code",
   "execution_count": 208,
   "id": "6ed5d8d9",
   "metadata": {},
   "outputs": [],
   "source": [
    "def check_exhibitions(exhibitions):\n",
    "    if isinstance(exhibitions, list):\n",
    "        return 1 \n",
    "    else:\n",
    "        return 0 "
   ]
  },
  {
   "cell_type": "code",
   "execution_count": 209,
   "id": "93e8713c",
   "metadata": {},
   "outputs": [],
   "source": [
    "exhibitions = [check_exhibitions(exb) for exb in df['exhibitions']]\n",
    "df['exb_canon'] = exhibitions"
   ]
  },
  {
   "cell_type": "markdown",
   "id": "1c2ad650",
   "metadata": {},
   "source": [
    "### Check correlations"
   ]
  },
  {
   "cell_type": "code",
   "execution_count": 210,
   "id": "df471984",
   "metadata": {},
   "outputs": [],
   "source": [
    "n_exhibitions_list = []\n",
    "n_golden_titles_list = []\n",
    "\n",
    "for idx, row in df.iterrows():    \n",
    "    n_exhibitions_list.append(len(row['exhibition_venues']) if isinstance(row['exhibition_venues'], list) else pd.NA)\n",
    "    n_golden_titles_list.append(len(row['golden_titles']) if isinstance(row['golden_titles'], list) else pd.NA)"
   ]
  },
  {
   "cell_type": "code",
   "execution_count": 211,
   "id": "c38ca203",
   "metadata": {},
   "outputs": [],
   "source": [
    "df['n_exhibitions'] = n_exhibitions_list\n",
    "df['n_golden_titles'] = n_golden_titles_list "
   ]
  },
  {
   "cell_type": "code",
   "execution_count": 212,
   "id": "75640ed3",
   "metadata": {},
   "outputs": [],
   "source": [
    "def n_smk_venues(venues):\n",
    "\n",
    "    n_venues = 0\n",
    "\n",
    "    if isinstance(venues, list):\n",
    "        for v in venues:\n",
    "            if isinstance(v, str) and v == 'Sølvgade':\n",
    "                n_venues += 1\n",
    "            else: \n",
    "                n_venues += 0\n",
    "    else:\n",
    "        n_venues += 0\n",
    "\n",
    "    return n_venues"
   ]
  },
  {
   "cell_type": "code",
   "execution_count": 213,
   "id": "6f303476",
   "metadata": {},
   "outputs": [],
   "source": [
    "n_smk_exhibitions = [n_smk_venues(venues) for venues in df['exhibition_venues']]\n",
    "df['n_smk_exhibitions'] = n_smk_exhibitions"
   ]
  },
  {
   "cell_type": "code",
   "execution_count": 214,
   "id": "64afab09",
   "metadata": {},
   "outputs": [
    {
     "name": "stderr",
     "output_type": "stream",
     "text": [
      "/var/folders/m8/6qm1yrz575b68s5y27_5z0jc33spwq/T/ipykernel_3159/2020816724.py:1: FutureWarning: Downcasting object dtype arrays on .fillna, .ffill, .bfill is deprecated and will change in a future version. Call result.infer_objects(copy=False) instead. To opt-in to the future behavior, set `pd.set_option('future.no_silent_downcasting', True)`\n",
      "  no_na_df = df.fillna(0)\n"
     ]
    }
   ],
   "source": [
    "no_na_df = df.fillna(0)"
   ]
  },
  {
   "cell_type": "code",
   "execution_count": 215,
   "id": "d4a0dcb5",
   "metadata": {},
   "outputs": [],
   "source": [
    "def plot_correlation(target_column, columns):\n",
    "    fig, ax = plt.subplots(1, 1, figsize = (10,4))\n",
    "    columns.remove(target_column)\n",
    "\n",
    "    for i, v in enumerate(columns):\n",
    "        ax.scatter(no_na_df[target_column], no_na_df[v])\n",
    "        ax.set_title(f'Correlation coef: {round(no_na_df[target_column].corr(no_na_df[v]), 3)}')\n",
    "        ax.set_xlabel(target_column)\n",
    "        ax.set_ylabel(v)\n",
    "\n",
    "    fig.show()"
   ]
  },
  {
   "cell_type": "code",
   "execution_count": 216,
   "id": "4c8628dc",
   "metadata": {},
   "outputs": [
    {
     "name": "stderr",
     "output_type": "stream",
     "text": [
      "/var/folders/m8/6qm1yrz575b68s5y27_5z0jc33spwq/T/ipykernel_3159/1478878060.py:11: UserWarning: FigureCanvasAgg is non-interactive, and thus cannot be shown\n",
      "  fig.show()\n"
     ]
    },
    {
     "data": {
      "image/png": "[encoded data removed]",
      "text/plain": [
       "<Figure size 1000x400 with 1 Axes>"
      ]
     },
     "metadata": {},
     "output_type": "display_data"
    }
   ],
   "source": [
    "columns = ['n_exhibitions',\n",
    " 'n_golden_titles']\n",
    "plot_correlation('n_golden_titles', columns)"
   ]
  },
  {
   "cell_type": "code",
   "execution_count": 217,
   "id": "5ba8eb02",
   "metadata": {},
   "outputs": [
    {
     "name": "stderr",
     "output_type": "stream",
     "text": [
      "/var/folders/m8/6qm1yrz575b68s5y27_5z0jc33spwq/T/ipykernel_3159/625316017.py:3: FutureWarning: Downcasting object dtype arrays on .fillna, .ffill, .bfill is deprecated and will change in a future version. Call result.infer_objects(copy=False) instead. To opt-in to the future behavior, set `pd.set_option('future.no_silent_downcasting', True)`\n",
      "  df_corr = df[['n_exhibitions', 'n_golden_titles', 'n_smk_exhibitions', 'on_display']].fillna(0)\n"
     ]
    },
    {
     "data": {
      "text/html": [
       "<style type=\"text/css\">\n",
       "#T_b4499_row0_col0, #T_b4499_row1_col1, #T_b4499_row2_col2, #T_b4499_row3_col3 {\n",
       "  background-color: #b40426;\n",
       "  color: #f1f1f1;\n",
       "}\n",
       "#T_b4499_row0_col1 {\n",
       "  background-color: #e2dad5;\n",
       "  color: #000000;\n",
       "}\n",
       "#T_b4499_row0_col2 {\n",
       "  background-color: #e3d9d3;\n",
       "  color: #000000;\n",
       "}\n",
       "#T_b4499_row0_col3 {\n",
       "  background-color: #7a9df8;\n",
       "  color: #f1f1f1;\n",
       "}\n",
       "#T_b4499_row1_col0 {\n",
       "  background-color: #c1d4f4;\n",
       "  color: #000000;\n",
       "}\n",
       "#T_b4499_row1_col2 {\n",
       "  background-color: #8fb1fe;\n",
       "  color: #000000;\n",
       "}\n",
       "#T_b4499_row1_col3, #T_b4499_row3_col0, #T_b4499_row3_col1, #T_b4499_row3_col2 {\n",
       "  background-color: #3b4cc0;\n",
       "  color: #f1f1f1;\n",
       "}\n",
       "#T_b4499_row2_col0 {\n",
       "  background-color: #ead4c8;\n",
       "  color: #000000;\n",
       "}\n",
       "#T_b4499_row2_col1 {\n",
       "  background-color: #ccd9ed;\n",
       "  color: #000000;\n",
       "}\n",
       "#T_b4499_row2_col3 {\n",
       "  background-color: #8caffe;\n",
       "  color: #000000;\n",
       "}\n",
       "</style>\n",
       "<table id=\"T_b4499\">\n",
       "  <thead>\n",
       "    <tr>\n",
       "      <th class=\"blank level0\" >&nbsp;</th>\n",
       "      <th id=\"T_b4499_level0_col0\" class=\"col_heading level0 col0\" >n_exhibitions</th>\n",
       "      <th id=\"T_b4499_level0_col1\" class=\"col_heading level0 col1\" >n_golden_titles</th>\n",
       "      <th id=\"T_b4499_level0_col2\" class=\"col_heading level0 col2\" >n_smk_exhibitions</th>\n",
       "      <th id=\"T_b4499_level0_col3\" class=\"col_heading level0 col3\" >on_display</th>\n",
       "    </tr>\n",
       "  </thead>\n",
       "  <tbody>\n",
       "    <tr>\n",
       "      <th id=\"T_b4499_level0_row0\" class=\"row_heading level0 row0\" >n_exhibitions</th>\n",
       "      <td id=\"T_b4499_row0_col0\" class=\"data row0 col0\" >1.000000</td>\n",
       "      <td id=\"T_b4499_row0_col1\" class=\"data row0 col1\" >0.696654</td>\n",
       "      <td id=\"T_b4499_row0_col2\" class=\"data row0 col2\" >0.773202</td>\n",
       "      <td id=\"T_b4499_row0_col3\" class=\"data row0 col3\" >0.489196</td>\n",
       "    </tr>\n",
       "    <tr>\n",
       "      <th id=\"T_b4499_level0_row1\" class=\"row_heading level0 row1\" >n_golden_titles</th>\n",
       "      <td id=\"T_b4499_row1_col0\" class=\"data row1 col0\" >0.696654</td>\n",
       "      <td id=\"T_b4499_row1_col1\" class=\"data row1 col1\" >1.000000</td>\n",
       "      <td id=\"T_b4499_row1_col2\" class=\"data row1 col2\" >0.643270</td>\n",
       "      <td id=\"T_b4499_row1_col3\" class=\"data row1 col3\" >0.365066</td>\n",
       "    </tr>\n",
       "    <tr>\n",
       "      <th id=\"T_b4499_level0_row2\" class=\"row_heading level0 row2\" >n_smk_exhibitions</th>\n",
       "      <td id=\"T_b4499_row2_col0\" class=\"data row2 col0\" >0.773202</td>\n",
       "      <td id=\"T_b4499_row2_col1\" class=\"data row2 col1\" >0.643270</td>\n",
       "      <td id=\"T_b4499_row2_col2\" class=\"data row2 col2\" >1.000000</td>\n",
       "      <td id=\"T_b4499_row2_col3\" class=\"data row2 col3\" >0.521833</td>\n",
       "    </tr>\n",
       "    <tr>\n",
       "      <th id=\"T_b4499_level0_row3\" class=\"row_heading level0 row3\" >on_display</th>\n",
       "      <td id=\"T_b4499_row3_col0\" class=\"data row3 col0\" >0.489196</td>\n",
       "      <td id=\"T_b4499_row3_col1\" class=\"data row3 col1\" >0.365066</td>\n",
       "      <td id=\"T_b4499_row3_col2\" class=\"data row3 col2\" >0.521833</td>\n",
       "      <td id=\"T_b4499_row3_col3\" class=\"data row3 col3\" >1.000000</td>\n",
       "    </tr>\n",
       "  </tbody>\n",
       "</table>\n"
      ],
      "text/plain": [
       "<pandas.io.formats.style.Styler at 0x14f1bdf90>"
      ]
     },
     "execution_count": 217,
     "metadata": {},
     "output_type": "execute_result"
    }
   ],
   "source": [
    "# check corr variables\n",
    "\n",
    "df_corr = df[['n_exhibitions', 'n_golden_titles', 'n_smk_exhibitions', 'on_display']].fillna(0)\n",
    "\n",
    "corr = df_corr.corr()\n",
    "corr.style.background_gradient(cmap='coolwarm')"
   ]
  },
  {
   "cell_type": "code",
   "execution_count": 218,
   "id": "a48771f3",
   "metadata": {},
   "outputs": [
    {
     "data": {
      "text/html": [
       "<style type=\"text/css\">\n",
       "#T_ac3db_row0_col0, #T_ac3db_row1_col1, #T_ac3db_row2_col2, #T_ac3db_row3_col3 {\n",
       "  background-color: #b40426;\n",
       "  color: #f1f1f1;\n",
       "}\n",
       "#T_ac3db_row0_col1 {\n",
       "  background-color: #b1cbfc;\n",
       "  color: #000000;\n",
       "}\n",
       "#T_ac3db_row0_col2 {\n",
       "  background-color: #cbd8ee;\n",
       "  color: #000000;\n",
       "}\n",
       "#T_ac3db_row0_col3, #T_ac3db_row1_col0 {\n",
       "  background-color: #7a9df8;\n",
       "  color: #f1f1f1;\n",
       "}\n",
       "#T_ac3db_row1_col2, #T_ac3db_row1_col3, #T_ac3db_row3_col0, #T_ac3db_row3_col1 {\n",
       "  background-color: #3b4cc0;\n",
       "  color: #f1f1f1;\n",
       "}\n",
       "#T_ac3db_row2_col0 {\n",
       "  background-color: #b6cefa;\n",
       "  color: #000000;\n",
       "}\n",
       "#T_ac3db_row2_col1 {\n",
       "  background-color: #5977e3;\n",
       "  color: #f1f1f1;\n",
       "}\n",
       "#T_ac3db_row2_col3 {\n",
       "  background-color: #799cf8;\n",
       "  color: #f1f1f1;\n",
       "}\n",
       "#T_ac3db_row3_col2 {\n",
       "  background-color: #5a78e4;\n",
       "  color: #f1f1f1;\n",
       "}\n",
       "</style>\n",
       "<table id=\"T_ac3db\">\n",
       "  <thead>\n",
       "    <tr>\n",
       "      <th class=\"blank level0\" >&nbsp;</th>\n",
       "      <th id=\"T_ac3db_level0_col0\" class=\"col_heading level0 col0\" >n_exhibitions</th>\n",
       "      <th id=\"T_ac3db_level0_col1\" class=\"col_heading level0 col1\" >n_golden_titles</th>\n",
       "      <th id=\"T_ac3db_level0_col2\" class=\"col_heading level0 col2\" >n_smk_exhibitions</th>\n",
       "      <th id=\"T_ac3db_level0_col3\" class=\"col_heading level0 col3\" >on_display</th>\n",
       "    </tr>\n",
       "  </thead>\n",
       "  <tbody>\n",
       "    <tr>\n",
       "      <th id=\"T_ac3db_level0_row0\" class=\"row_heading level0 row0\" >n_exhibitions</th>\n",
       "      <td id=\"T_ac3db_row0_col0\" class=\"data row0 col0\" >1.000000</td>\n",
       "      <td id=\"T_ac3db_row0_col1\" class=\"data row0 col1\" >0.605747</td>\n",
       "      <td id=\"T_ac3db_row0_col2\" class=\"data row0 col2\" >0.689682</td>\n",
       "      <td id=\"T_ac3db_row0_col3\" class=\"data row0 col3\" >0.508893</td>\n",
       "    </tr>\n",
       "    <tr>\n",
       "      <th id=\"T_ac3db_level0_row1\" class=\"row_heading level0 row1\" >n_golden_titles</th>\n",
       "      <td id=\"T_ac3db_row1_col0\" class=\"data row1 col0\" >0.605747</td>\n",
       "      <td id=\"T_ac3db_row1_col1\" class=\"data row1 col1\" >1.000000</td>\n",
       "      <td id=\"T_ac3db_row1_col2\" class=\"data row1 col2\" >0.451292</td>\n",
       "      <td id=\"T_ac3db_row1_col3\" class=\"data row1 col3\" >0.389436</td>\n",
       "    </tr>\n",
       "    <tr>\n",
       "      <th id=\"T_ac3db_level0_row2\" class=\"row_heading level0 row2\" >n_smk_exhibitions</th>\n",
       "      <td id=\"T_ac3db_row2_col0\" class=\"data row2 col0\" >0.689682</td>\n",
       "      <td id=\"T_ac3db_row2_col1\" class=\"data row2 col1\" >0.451292</td>\n",
       "      <td id=\"T_ac3db_row2_col2\" class=\"data row2 col2\" >1.000000</td>\n",
       "      <td id=\"T_ac3db_row2_col3\" class=\"data row2 col3\" >0.508364</td>\n",
       "    </tr>\n",
       "    <tr>\n",
       "      <th id=\"T_ac3db_level0_row3\" class=\"row_heading level0 row3\" >on_display</th>\n",
       "      <td id=\"T_ac3db_row3_col0\" class=\"data row3 col0\" >0.508893</td>\n",
       "      <td id=\"T_ac3db_row3_col1\" class=\"data row3 col1\" >0.389436</td>\n",
       "      <td id=\"T_ac3db_row3_col2\" class=\"data row3 col2\" >0.508364</td>\n",
       "      <td id=\"T_ac3db_row3_col3\" class=\"data row3 col3\" >1.000000</td>\n",
       "    </tr>\n",
       "  </tbody>\n",
       "</table>\n"
      ],
      "text/plain": [
       "<pandas.io.formats.style.Styler at 0x14f1bde50>"
      ]
     },
     "execution_count": 218,
     "metadata": {},
     "output_type": "execute_result"
    }
   ],
   "source": [
    "# check corr variables\n",
    "\n",
    "df_corr_nona = df[['n_exhibitions', 'n_golden_titles', 'n_smk_exhibitions', 'on_display']].dropna(how='any')\n",
    "\n",
    "corr = df_corr_nona.corr()\n",
    "corr.style.background_gradient(cmap='coolwarm')"
   ]
  },
  {
   "cell_type": "code",
   "execution_count": 219,
   "id": "1abf5b49",
   "metadata": {},
   "outputs": [],
   "source": [
    "df = df.query('main_type == \"Maleri\"')\n",
    "indices = df.index.tolist()\n",
    "df.reset_index(drop=True, inplace=True)\n",
    "ds = ds.select(indices)"
   ]
  },
  {
   "cell_type": "markdown",
   "id": "03652fb9",
   "metadata": {},
   "source": [
    "### Add column on exhibition years"
   ]
  },
  {
   "cell_type": "code",
   "execution_count": 220,
   "id": "159fe94b",
   "metadata": {},
   "outputs": [],
   "source": [
    "def get_ex_years(ex_dict_list):\n",
    "    \n",
    "    dates = []\n",
    "    if isinstance(ex_dict_list, list):\n",
    "        \n",
    "        for e in ex_dict_list:\n",
    "            start_date = e.get('date_start', None)\n",
    "\n",
    "            if start_date:\n",
    "                start_year = start_date.split('-')[0]\n",
    "                dates.append(start_year)\n",
    "            else:\n",
    "                dates.append(pd.NA)\n",
    "        \n",
    "    else:\n",
    "        dates = pd.NA\n",
    "    \n",
    "    return dates"
   ]
  },
  {
   "cell_type": "code",
   "execution_count": 221,
   "id": "c3022fff",
   "metadata": {},
   "outputs": [],
   "source": [
    "ex_dates = [get_ex_years(ex_dict_list) for ex_dict_list in df['exhibitions']]\n",
    "df['ex_years'] = ex_dates"
   ]
  },
  {
   "cell_type": "markdown",
   "id": "20e61ead",
   "metadata": {},
   "source": [
    "#### Add column on exhibition 'distances'"
   ]
  },
  {
   "cell_type": "code",
   "execution_count": 222,
   "id": "f1b1b83d",
   "metadata": {},
   "outputs": [],
   "source": [
    "def get_ex_distances(row):\n",
    "\n",
    "    prod_year = row['start_year']\n",
    "    diffs = []\n",
    "\n",
    "    if isinstance(row['ex_years'], list):\n",
    "        for year in row['ex_years']:\n",
    "            if isinstance(year, str):\n",
    "                diff = int(year) - int(prod_year) \n",
    "                diffs.append(diff)\n",
    "            else:\n",
    "                diffs.append(pd.NA)\n",
    "    else:\n",
    "        diffs = pd.NA\n",
    "    \n",
    "    return diffs"
   ]
  },
  {
   "cell_type": "code",
   "execution_count": 223,
   "id": "d4911f21",
   "metadata": {},
   "outputs": [],
   "source": [
    "ex_distances = [get_ex_distances(row) for idx, row in df.iterrows()]\n",
    "df['ex_distances'] = ex_distances"
   ]
  },
  {
   "cell_type": "code",
   "execution_count": 224,
   "id": "40098622",
   "metadata": {},
   "outputs": [],
   "source": [
    "def get_ex_distances_smk(row):\n",
    "\n",
    "    if pd.notna(row['acquisition_date']):\n",
    "        acq_year = row['acquisition_date'].split('-')[0]\n",
    "        diffs = []\n",
    "\n",
    "        if isinstance(row['ex_years'], list):\n",
    "            for idx, year in enumerate(row['ex_years']):\n",
    "                if isinstance(year, str) and isinstance(row['exhibition_venues'], list):\n",
    "                    if pd.notna(row['exhibition_venues'][idx]) and row['exhibition_venues'][idx] == 'Sølvgade':\n",
    "                        diff = int(year) - int(acq_year) \n",
    "                        diffs.append(diff)\n",
    "                    else:\n",
    "                        diffs.append(pd.NA)\n",
    "                else:\n",
    "                    diffs.append(pd.NA)\n",
    "        else:\n",
    "            diffs = pd.NA\n",
    "    else:\n",
    "        diffs = pd.NA\n",
    "    return diffs"
   ]
  },
  {
   "cell_type": "code",
   "execution_count": 225,
   "id": "7f6c782f",
   "metadata": {},
   "outputs": [],
   "source": [
    "smk_distances = [get_ex_distances_smk(row) for idx, row in df.iterrows()]\n",
    "df['smk_distances'] = smk_distances"
   ]
  },
  {
   "cell_type": "code",
   "execution_count": 226,
   "id": "fe2eba4c",
   "metadata": {},
   "outputs": [],
   "source": [
    "dist_canon = []\n",
    "for dists in df['ex_distances']:\n",
    "\n",
    "    canon = 0\n",
    "    if isinstance(dists, list):\n",
    "        big_dists = [i for i in dists if i > 150]\n",
    "\n",
    "        if len(big_dists) > 0:\n",
    "            canon =+ 1\n",
    "        else:\n",
    "            canon =+ 0\n",
    "        dist_canon.append(canon)\n",
    "    else:\n",
    "        dist_canon.append(0)"
   ]
  },
  {
   "cell_type": "code",
   "execution_count": 227,
   "id": "4dd5f3c4",
   "metadata": {},
   "outputs": [],
   "source": [
    "df['dist_canon'] = dist_canon"
   ]
  },
  {
   "cell_type": "markdown",
   "id": "b0363a22",
   "metadata": {},
   "source": [
    "#### Add exhibitions canon"
   ]
  },
  {
   "cell_type": "code",
   "execution_count": 228,
   "id": "055a41fc",
   "metadata": {},
   "outputs": [],
   "source": [
    "exb_canon = []\n",
    "\n",
    "for idx, row in df.iterrows():\n",
    "    exb_years = row['ex_years']\n",
    "\n",
    "    if isinstance(exb_years, list):\n",
    "        match = False\n",
    "        for year in exb_years:\n",
    "            if year.startswith('2') == True:\n",
    "                match = True\n",
    "                break\n",
    "            \n",
    "            else:\n",
    "                continue\n",
    "\n",
    "        if match == True:\n",
    "            exb_canon.append('canon')\n",
    "        \n",
    "        else:\n",
    "            exb_canon.append('other')\n",
    "\n",
    "    else:\n",
    "        exb_canon.append('other')\n",
    "\n",
    "df['exb_canon'] = exb_canon"
   ]
  },
  {
   "cell_type": "markdown",
   "id": "465eae6b",
   "metadata": {},
   "source": [
    "#### Make canon index by copying the formula by M. Tolonen et al. (2021)"
   ]
  },
  {
   "cell_type": "code",
   "execution_count": 229,
   "id": "e55ff4bb",
   "metadata": {},
   "outputs": [
    {
     "name": "stderr",
     "output_type": "stream",
     "text": [
      "/var/folders/m8/6qm1yrz575b68s5y27_5z0jc33spwq/T/ipykernel_3159/2339353792.py:1: FutureWarning: Downcasting object dtype arrays on .fillna, .ffill, .bfill is deprecated and will change in a future version. Call result.infer_objects(copy=False) instead. To opt-in to the future behavior, set `pd.set_option('future.no_silent_downcasting', True)`\n",
      "  no_na_df = df.fillna(0)\n"
     ]
    }
   ],
   "source": [
    "no_na_df = df.fillna(0)\n",
    "total_exb_count = no_na_df['n_exhibitions'].sum()"
   ]
  },
  {
   "cell_type": "code",
   "execution_count": 233,
   "id": "17ffe34f",
   "metadata": {},
   "outputs": [],
   "source": [
    "unique_years = [np.unique(years).tolist() for years in no_na_df['ex_years']]\n",
    "no_na_df['unique_exb_years'] = unique_years"
   ]
  },
  {
   "cell_type": "code",
   "execution_count": 234,
   "id": "5a934bf1",
   "metadata": {},
   "outputs": [],
   "source": [
    "# calculate canon index based on formula by M. Tolonen et al.\n",
    "def canon_idx(row, total_exb_count):\n",
    "\n",
    "    unique_exb_years = len(row['unique_exb_years'])\n",
    "\n",
    "    idx = unique_exb_years * (row['n_exhibitions'] / total_exb_count)\n",
    "\n",
    "    return idx"
   ]
  },
  {
   "cell_type": "code",
   "execution_count": 235,
   "id": "8a3daaf2",
   "metadata": {},
   "outputs": [],
   "source": [
    "canon_idxes = [canon_idx(row, total_exb_count) for idx, row in no_na_df.iterrows()]\n",
    "df['canon_idx'] = canon_idxes"
   ]
  },
  {
   "cell_type": "code",
   "execution_count": 237,
   "id": "e47dace2",
   "metadata": {},
   "outputs": [],
   "source": [
    "def add_mean_prod_year(df):\n",
    "\n",
    "    mean_years = []\n",
    "\n",
    "    for idx, row in df.iterrows():\n",
    "        if '-' in row['period']:\n",
    "        #row['period'].str.contains('-'):\n",
    "            start_year = int(row['period'].split('-')[0])\n",
    "            end_year = int(row['period'].split('-')[-1])\n",
    "        \n",
    "            mean_year = (start_year + end_year) // 2\n",
    "            mean_years.append(mean_year)\n",
    "\n",
    "        else:\n",
    "            mean_years.append(row['start_year'])\n",
    "\n",
    "\n",
    "    df['mean_prod_year'] = mean_years\n",
    "\n",
    "    return df"
   ]
  },
  {
   "cell_type": "code",
   "execution_count": 238,
   "id": "40967a9e",
   "metadata": {},
   "outputs": [],
   "source": [
    "df = add_mean_prod_year(df)"
   ]
  },
  {
   "cell_type": "code",
   "execution_count": 239,
   "id": "0e7fc70e",
   "metadata": {},
   "outputs": [],
   "source": [
    "# change canon variables from 0 / 1 to other / canon\n",
    "columns = ['exb_canon', 'dist_canon', 'on_display', 'smk_exhibitions']\n",
    "\n",
    "for column in columns:\n",
    "    df[column] = df[column].replace({0: 'other', 1: 'canon'})"
   ]
  },
  {
   "cell_type": "code",
   "execution_count": 240,
   "id": "5206ae97",
   "metadata": {},
   "outputs": [
    {
     "data": {
      "text/plain": [
       "smk_exhibitions\n",
       "other    1320\n",
       "canon     370\n",
       "Name: count, dtype: int64"
      ]
     },
     "execution_count": 240,
     "metadata": {},
     "output_type": "execute_result"
    }
   ],
   "source": [
    "df['smk_exhibitions'].value_counts()"
   ]
  },
  {
   "cell_type": "code",
   "execution_count": 241,
   "id": "979ae6be",
   "metadata": {},
   "outputs": [],
   "source": [
    "# write new df with canon info to disk\n",
    "df.to_pickle(os.path.join(data_path, 'paintings_canonized.pkl'))"
   ]
  },
  {
   "cell_type": "code",
   "execution_count": 242,
   "id": "7e02e5a4",
   "metadata": {},
   "outputs": [],
   "source": [
    "# save metadata dicts\n",
    "with open(os.path.join(data_path, 'metadata_paintings'), \"w\") as json_file:\n",
    "    json.dump(metadata, json_file, indent=2)"
   ]
  }
 ],
 "metadata": {
  "kernelspec": {
   "display_name": "env",
   "language": "python",
   "name": "python3"
  },
  "language_info": {
   "codemirror_mode": {
    "name": "ipython",
    "version": 3
   },
   "file_extension": ".py",
   "mimetype": "text/x-python",
   "name": "python",
   "nbconvert_exporter": "python",
   "pygments_lexer": "ipython3",
   "version": "3.13.3"
  }
 },
 "nbformat": 4,
 "nbformat_minor": 5
}
